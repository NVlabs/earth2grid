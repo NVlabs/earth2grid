{
  "cells": [
    {
      "cell_type": "markdown",
      "metadata": {},
      "source": [
        "\n# HealPIX Pixelization\n\nHealPIX maps can be viewed as a 2D image rotated by 45 deg or alternatively with\ndouble pixelization that is not rotated.  This is useful for quick visualization\nwith image viewers without distorting the native pixels of the image.\n"
      ]
    },
    {
      "cell_type": "code",
      "execution_count": null,
      "metadata": {
        "collapsed": false
      },
      "outputs": [],
      "source": [
        "import matplotlib.pyplot as plt\nimport numpy as np\n\nfrom earth2grid import healpix\n\nn = 8\nnpix = 12 * n * n\nncap = 2 * n * (n - 1)\np = np.arange(npix)\n\ngrid = healpix.Grid(healpix.nside2level(n))\ni, jp = healpix.ring2double(n, p)\nplt.figure(figsize=(10, 3))\n# plt.scatter(jp, i, c=grid.lon[p])\nplt.scatter(jp + 1, i, c=grid.lon[p])\nplt.grid()"
      ]
    },
    {
      "cell_type": "code",
      "execution_count": null,
      "metadata": {
        "collapsed": false
      },
      "outputs": [],
      "source": [
        "n = 4\nnpix = 12 * n * n\nncap = 2 * n * (n - 1)\np = np.arange(npix)\n\ngrid = healpix.Grid(healpix.nside2level(n))\nout = healpix.to_double_pixelization(grid.lon)\nplt.imshow(out)"
      ]
    },
    {
      "cell_type": "code",
      "execution_count": null,
      "metadata": {
        "collapsed": false
      },
      "outputs": [],
      "source": [
        "out = healpix.to_rotated_pixelization(grid.lon)\nplt.imshow(out)"
      ]
    }
  ],
  "metadata": {
    "kernelspec": {
      "display_name": "Python 3",
      "language": "python",
      "name": "python3"
    },
    "language_info": {
      "codemirror_mode": {
        "name": "ipython",
        "version": 3
      },
      "file_extension": ".py",
      "mimetype": "text/x-python",
      "name": "python",
      "nbconvert_exporter": "python",
      "pygments_lexer": "ipython3",
      "version": "3.12.10"
    }
  },
  "nbformat": 4,
  "nbformat_minor": 0
}