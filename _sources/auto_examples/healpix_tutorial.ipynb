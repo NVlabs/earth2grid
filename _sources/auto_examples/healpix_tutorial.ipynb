{
  "cells": [
    {
      "cell_type": "markdown",
      "metadata": {},
      "source": [
        "\n# HealPIX Tutorial\n\nThis tutorial demonstrates key HealPIX functionality including:\n1. Visualization using double pixelization\n2. Zonal averaging\n3. Regridding between different grids\n"
      ]
    },
    {
      "cell_type": "code",
      "execution_count": null,
      "metadata": {
        "collapsed": false
      },
      "outputs": [],
      "source": [
        "import matplotlib.pyplot as plt\nimport numpy as np\nimport torch\n\nimport earth2grid\nfrom earth2grid import healpix\n\n# Create a sample HealPIX grid\nlevel = 4  # Resolution level (higher = finer resolution)\ngrid = healpix.Grid(level=level, pixel_order=healpix.XY())\n\n# Create a sample field with lat/lon dependence\ndef create_sample_field(lat, lon):\n    \"\"\"Create a sample field with lat/lon dependence\"\"\"\n    lat = torch.from_numpy(lat)\n    lon = torch.from_numpy(lon)\n    return torch.cos(torch.deg2rad(lat)) * torch.sin(2 * torch.deg2rad(lon))\n\n# Generate the sample field\nfield = create_sample_field(grid.lat, grid.lon)"
      ]
    },
    {
      "cell_type": "markdown",
      "metadata": {},
      "source": [
        "# 1. Visualization using double pixelization\nDouble pixelization provides a visually appealing way to view HealPIX data\nwithout interpolation, preserving the native pixel structure\n\n"
      ]
    },
    {
      "cell_type": "code",
      "execution_count": null,
      "metadata": {
        "collapsed": false
      },
      "outputs": [],
      "source": [
        "# Convert to double pixelization\nfield_double = healpix.to_double_pixelization(field)\n\nplt.figure(figsize=(12, 4))\nplt.imshow(field_double)\nplt.colorbar(label='Field Value')\nplt.title('Double Pixelization Visualization')\nplt.show()"
      ]
    },
    {
      "cell_type": "markdown",
      "metadata": {},
      "source": [
        "# 2. Zonal Averaging\nCompute the zonal average of the field (average along latitude circles)\n\n"
      ]
    },
    {
      "cell_type": "code",
      "execution_count": null,
      "metadata": {
        "collapsed": false
      },
      "outputs": [],
      "source": [
        "zonal_avg = healpix.zonal_average(field)\n\n# Plot the zonal average\nplt.figure(figsize=(8, 4))\nplt.plot(grid.lat[::100], zonal_avg[::100])  # Plot every 100th point for clarity\nplt.xlabel('Latitude (degrees)')\nplt.ylabel('Zonal Average')\nplt.title('Zonal Average of Sample Field')\nplt.grid(True)\nplt.show()"
      ]
    },
    {
      "cell_type": "markdown",
      "metadata": {},
      "source": [
        "# 3. Regridding\nDemonstrate regridding between different grid types\n\n"
      ]
    },
    {
      "cell_type": "code",
      "execution_count": null,
      "metadata": {
        "collapsed": false
      },
      "outputs": [],
      "source": [
        "# Create a lat-lon grid\nnlat, nlon = 33, 64\nlatlon_grid = earth2grid.latlon.equiangular_lat_lon_grid(nlat, nlon)\n\n# Create regridder from HealPIX to lat-lon\nregridder = earth2grid.get_regridder(grid, latlon_grid)\n\n# Regrid the field\nfield_regridded = regridder(field)\n\n# Plot original and regridded fields\nfig, (ax1, ax2) = plt.subplots(1, 2, figsize=(12, 4))\n\n# Original HealPIX field\nim1 = ax1.scatter(grid.lon, grid.lat, c=field, s=1)\nax1.set_title('Original HealPIX Field')\nplt.colorbar(im1, ax=ax1)\n\n# Regridded field\nim2 = ax2.pcolormesh(latlon_grid.lon, latlon_grid.lat, field_regridded)\nax2.set_title('Regridded to Lat-Lon')\nplt.colorbar(im2, ax=ax2)\n\nplt.tight_layout()\nplt.show()"
      ]
    },
    {
      "cell_type": "markdown",
      "metadata": {},
      "source": [
        "# Additional: Regridding between HealPIX grids of different resolutions\nCreate a higher resolution HealPIX grid\n\n"
      ]
    },
    {
      "cell_type": "code",
      "execution_count": null,
      "metadata": {
        "collapsed": false
      },
      "outputs": [],
      "source": [
        "high_res_grid = healpix.Grid(level=level+1, pixel_order=healpix.XY())\n\n# Create regridder\nhigh_res_regridder = earth2grid.get_regridder(grid, high_res_grid)\n\n# Regrid the field\nfield_high_res = high_res_regridder(field)\n\n# Plot original and high-resolution fields\nfig, (ax1, ax2) = plt.subplots(1, 2, figsize=(12, 4))\n\n# Original resolution\nim1 = ax1.scatter(grid.lon, grid.lat, c=field, s=1)\nax1.set_title(f'Original HealPIX (Level {level})')\nplt.colorbar(im1, ax=ax1)\n\n# High resolution\nim2 = ax2.scatter(high_res_grid.lon, high_res_grid.lat, c=field_high_res, s=0.5)\nax2.set_title(f'High Resolution HealPIX (Level {level+1})')\nplt.colorbar(im2, ax=ax2)\n\nplt.tight_layout()\nplt.show()"
      ]
    }
  ],
  "metadata": {
    "kernelspec": {
      "display_name": "Python 3",
      "language": "python",
      "name": "python3"
    },
    "language_info": {
      "codemirror_mode": {
        "name": "ipython",
        "version": 3
      },
      "file_extension": ".py",
      "mimetype": "text/x-python",
      "name": "python",
      "nbconvert_exporter": "python",
      "pygments_lexer": "ipython3",
      "version": "3.12.10"
    }
  },
  "nbformat": 4,
  "nbformat_minor": 0
}