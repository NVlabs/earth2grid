{
  "cells": [
    {
      "cell_type": "markdown",
      "metadata": {},
      "source": [
        "\n# Plot grids with PyVista\n"
      ]
    },
    {
      "cell_type": "code",
      "execution_count": null,
      "metadata": {
        "collapsed": false
      },
      "outputs": [],
      "source": [
        "import pyvista as pv"
      ]
    },
    {
      "cell_type": "code",
      "execution_count": null,
      "metadata": {
        "collapsed": false
      },
      "outputs": [],
      "source": [
        "import earth2grid\n\n\ndef label(mesh, plotter, text):\n    \"\"\"\n    Add a label above a mesh in a PyVista plot.\n\n    Parameters:\n    - mesh: The mesh to label.\n    - plotter: A PyVista plotter instance.\n    - text: The label text.\n    - color: The color of the text label. Default is 'white'.\n    \"\"\"\n    # Calculate the center of the mesh and the top Z-coordinate plus an offset\n    center = mesh.center\n    label_pos = [center[0], center[1], mesh.bounds[5] + 0.5]  # Offset to place label above the mesh\n\n    # Add the label using point labels for precise 3D positioning\n    plotter.add_point_labels(\n        [label_pos], [text], point_size=0, render_points_as_spheres=False, shape_opacity=0, font_size=20\n    )\n\n\ngrid = earth2grid.healpix.Grid(level=4)\nhpx = grid.to_pyvista()\nlatlon = earth2grid.latlon.equiangular_lat_lon_grid(32, 64, includes_south_pole=False).to_pyvista()\n\n\npl = pv.Plotter()\nmesh = hpx.translate([0, 2.5, 0])\npl.add_mesh(mesh, show_edges=True)\nlabel(mesh, pl, \"HealPix\")\n\npl.add_mesh(latlon, show_edges=True)\nlabel(latlon, pl, \"Equiangular Lat/Lon\")\n\npl.camera.position = (5, 0, 5)\npl.show()"
      ]
    }
  ],
  "metadata": {
    "kernelspec": {
      "display_name": "Python 3",
      "language": "python",
      "name": "python3"
    },
    "language_info": {
      "codemirror_mode": {
        "name": "ipython",
        "version": 3
      },
      "file_extension": ".py",
      "mimetype": "text/x-python",
      "name": "python",
      "nbconvert_exporter": "python",
      "pygments_lexer": "ipython3",
      "version": "3.12.10"
    }
  },
  "nbformat": 4,
  "nbformat_minor": 0
}